{
 "cells": [
  {
   "cell_type": "markdown",
   "id": "literary-capability",
   "metadata": {},
   "source": [
    "# Construyendo un sistema de análisis de sentimiento\n",
    "\n",
    "## Enunciado\n",
    "\n",
    "Se le pide que tome del corpus con el que vamos a trabajar en la práctica, HateEval (en castellano), los 10 primero tweets.\n",
    "\n",
    "1. Haga un pequeño preproceso (todo el texto en minúsculas, sin signos de puntuación ni palabras vacias y reduzca a la raiz).\n",
    "\n",
    "2. Obtenga las 15 palabras más frecuentes y muéstrelas en un gráfico de frecuencia"
   ]
  },
  {
   "cell_type": "markdown",
   "id": "postal-cologne",
   "metadata": {},
   "source": [
    "## Implementación\n",
    "\n",
    "### Paso 1: Descargando las librerías de nltk\n",
    "\n",
    "Importamos la librería nltk. Si no la tenemos instalada la podemos instalar mediante pip\n",
    "\n",
    "    pip install nltk\n",
    " \n",
    "Una vez importada, descargamos los paquetes necesarios: en este caso, con los conjuntos \"popular\" y \"spanish grammars\" será suficiente. El \"popular\" descargará los paquetes mas populares, mientras que \"spanish grammars\" descargará los paquetes para realizar el procesamiento de texto en español"
   ]
  },
  {
   "cell_type": "code",
   "execution_count": 1,
   "id": "isolated-victorian",
   "metadata": {},
   "outputs": [
    {
     "name": "stderr",
     "output_type": "stream",
     "text": [
      "[nltk_data] Downloading collection 'popular'\n",
      "[nltk_data]    | \n",
      "[nltk_data]    | Downloading package cmudict to\n",
      "[nltk_data]    |     /home/almu/nltk_data...\n",
      "[nltk_data]    |   Package cmudict is already up-to-date!\n",
      "[nltk_data]    | Downloading package gazetteers to\n",
      "[nltk_data]    |     /home/almu/nltk_data...\n",
      "[nltk_data]    |   Package gazetteers is already up-to-date!\n",
      "[nltk_data]    | Downloading package genesis to\n",
      "[nltk_data]    |     /home/almu/nltk_data...\n",
      "[nltk_data]    |   Package genesis is already up-to-date!\n",
      "[nltk_data]    | Downloading package gutenberg to\n",
      "[nltk_data]    |     /home/almu/nltk_data...\n",
      "[nltk_data]    |   Package gutenberg is already up-to-date!\n",
      "[nltk_data]    | Downloading package inaugural to\n",
      "[nltk_data]    |     /home/almu/nltk_data...\n",
      "[nltk_data]    |   Package inaugural is already up-to-date!\n",
      "[nltk_data]    | Downloading package movie_reviews to\n",
      "[nltk_data]    |     /home/almu/nltk_data...\n",
      "[nltk_data]    |   Package movie_reviews is already up-to-date!\n",
      "[nltk_data]    | Downloading package names to /home/almu/nltk_data...\n",
      "[nltk_data]    |   Package names is already up-to-date!\n",
      "[nltk_data]    | Downloading package shakespeare to\n",
      "[nltk_data]    |     /home/almu/nltk_data...\n",
      "[nltk_data]    |   Package shakespeare is already up-to-date!\n",
      "[nltk_data]    | Downloading package stopwords to\n",
      "[nltk_data]    |     /home/almu/nltk_data...\n",
      "[nltk_data]    |   Package stopwords is already up-to-date!\n",
      "[nltk_data]    | Downloading package treebank to\n",
      "[nltk_data]    |     /home/almu/nltk_data...\n",
      "[nltk_data]    |   Package treebank is already up-to-date!\n",
      "[nltk_data]    | Downloading package twitter_samples to\n",
      "[nltk_data]    |     /home/almu/nltk_data...\n",
      "[nltk_data]    |   Package twitter_samples is already up-to-date!\n",
      "[nltk_data]    | Downloading package omw to /home/almu/nltk_data...\n",
      "[nltk_data]    |   Package omw is already up-to-date!\n",
      "[nltk_data]    | Downloading package wordnet to\n",
      "[nltk_data]    |     /home/almu/nltk_data...\n",
      "[nltk_data]    |   Package wordnet is already up-to-date!\n",
      "[nltk_data]    | Downloading package wordnet_ic to\n",
      "[nltk_data]    |     /home/almu/nltk_data...\n",
      "[nltk_data]    |   Package wordnet_ic is already up-to-date!\n",
      "[nltk_data]    | Downloading package words to /home/almu/nltk_data...\n",
      "[nltk_data]    |   Package words is already up-to-date!\n",
      "[nltk_data]    | Downloading package maxent_ne_chunker to\n",
      "[nltk_data]    |     /home/almu/nltk_data...\n",
      "[nltk_data]    |   Package maxent_ne_chunker is already up-to-date!\n",
      "[nltk_data]    | Downloading package punkt to /home/almu/nltk_data...\n",
      "[nltk_data]    |   Package punkt is already up-to-date!\n",
      "[nltk_data]    | Downloading package snowball_data to\n",
      "[nltk_data]    |     /home/almu/nltk_data...\n",
      "[nltk_data]    |   Package snowball_data is already up-to-date!\n",
      "[nltk_data]    | Downloading package averaged_perceptron_tagger to\n",
      "[nltk_data]    |     /home/almu/nltk_data...\n",
      "[nltk_data]    |   Package averaged_perceptron_tagger is already up-\n",
      "[nltk_data]    |       to-date!\n",
      "[nltk_data]    | \n",
      "[nltk_data]  Done downloading collection popular\n",
      "[nltk_data] Downloading package spanish_grammars to\n",
      "[nltk_data]     /home/almu/nltk_data...\n",
      "[nltk_data]   Package spanish_grammars is already up-to-date!\n"
     ]
    },
    {
     "data": {
      "text/plain": [
       "True"
      ]
     },
     "execution_count": 1,
     "metadata": {},
     "output_type": "execute_result"
    }
   ],
   "source": [
    "import nltk\n",
    "\n",
    "\n",
    "nltk.download('popular')\n",
    "nltk.download('spanish_grammars')"
   ]
  },
  {
   "cell_type": "markdown",
   "id": "forty-research",
   "metadata": {},
   "source": [
    "### Paso 2: Cargando el corpus\n",
    "\n",
    "Cargamos el corpus desde el fichero \"trial_es.tsv\". Este fichero utiliza un formato csv separado por tabulaciones.\n",
    "Para este ejercicio, cargamos las 10 primeras filas, correspondientes a 10 tuits.\n",
    "\n",
    "Para ello utilizaremos la librería pandas, con el método `read_csv()`, indicando en sus parámetros el tipo de separador y el número de filas a leer. Esto nos cargará las 10 filas en un dataframe (al que llamaremos `corpus_df`) con las mismas columnas que en el fichero original, etiquetadas por sus respectivos nombres. \n",
    "\n",
    "Una vez cargado, mostraremos el dataframe para comprobar que se ha cargado correctamente"
   ]
  },
  {
   "cell_type": "code",
   "execution_count": 87,
   "id": "basic-immunology",
   "metadata": {},
   "outputs": [
    {
     "name": "stdout",
     "output_type": "stream",
     "text": [
      "    id                                               text  HS  TR  AG\n",
      "0  101  @ian_delaCalva @IrantzuVarela @pikaramagazine ...   0   0   0\n",
      "1  102  NINGUNA MUJER ES 'PUTA' ❗❗❗ https://t.co/cV0CQ...   0   0   0\n",
      "2  103  Editar, además de complicado, es lo que hace d...   0   0   0\n",
      "3  104  Bien joder una puta alegría!! Te lo mereces pe...   0   0   0\n",
      "4  105  Todo política... no se levanta la sesión y est...   0   0   0\n",
      "5  106  Casuso callate de una puta vez https://t.co/tW...   0   0   0\n",
      "6  107  @BedMM @NayBetania Tú eres la culpable, perra >:v   1   1   1\n",
      "7  108  Yo no puedo creer que las propias mujeres natu...   0   0   0\n",
      "8  109  @DalasReview @jk_rowling Hijo de puta muerete ...   0   0   0\n",
      "9  110  @Wachit0 @100Akshat @_Midoriyaa_ @NeohSJ La id...   0   0   0\n"
     ]
    }
   ],
   "source": [
    "import pandas as pd\n",
    "\n",
    "corpus_df = pd.read_csv(\"HateEval/trial_es.tsv\", sep=\"\\t\", nrows=10)\n",
    "\n",
    "print(corpus_df)"
   ]
  },
  {
   "cell_type": "markdown",
   "id": "superior-furniture",
   "metadata": {},
   "source": [
    "### Paso 3: Preprocesando el texto\n",
    "#### 3.1. Pasando el texto a minúsculas\n",
    "\n",
    "Empezamos el preprocesamiento del texto. Para no romper el esquema de datos, el preprocesamiento lo realizaremos sobre la misma estructura del dataframe, aprovechando la columna ya existente.\n",
    "\n",
    "Para pasar el texto a minúsculas, utilizamos la función `lower()` de la librería estándar.\n",
    "Lo aplicamos sobre cada fila de la columna 'text', en la que se almacena el texto. \n",
    "\n",
    "Para ello, utilizamos la función `apply()` de pandas, pasando la función en forma de lambda. Esto aplicará dicha función sobre cada fila del dataframe. \n",
    "La función `apply()` nos devuelve una copia del dataframe con las modificaciones realizadas. Almacenamos el resultado en un nuevo dataframe llamado `corpus_lower`\n",
    "\n",
    "Finalmente, mostramos el dataframe para comprobar que el proceso ha funcionado correctamente"
   ]
  },
  {
   "cell_type": "code",
   "execution_count": 88,
   "id": "muslim-suicide",
   "metadata": {},
   "outputs": [
    {
     "name": "stdout",
     "output_type": "stream",
     "text": [
      "    id                                               text  HS  TR  AG\n",
      "0  101  @ian_delacalva @irantzuvarela @pikaramagazine ...   0   0   0\n",
      "1  102  ninguna mujer es 'puta' ❗❗❗ https://t.co/cv0cq...   0   0   0\n",
      "2  103  editar, además de complicado, es lo que hace d...   0   0   0\n",
      "3  104  bien joder una puta alegría!! te lo mereces pe...   0   0   0\n",
      "4  105  todo política... no se levanta la sesión y est...   0   0   0\n",
      "5  106  casuso callate de una puta vez https://t.co/tw...   0   0   0\n",
      "6  107  @bedmm @naybetania tú eres la culpable, perra >:v   1   1   1\n",
      "7  108  yo no puedo creer que las propias mujeres natu...   0   0   0\n",
      "8  109  @dalasreview @jk_rowling hijo de puta muerete ...   0   0   0\n",
      "9  110  @wachit0 @100akshat @_midoriyaa_ @neohsj la id...   0   0   0\n"
     ]
    }
   ],
   "source": [
    "corpus_lower = corpus_df\n",
    "corpus_lower['text'] = corpus_df['text'].apply(lambda text: text.lower())\n",
    "\n",
    "print(corpus_lower)"
   ]
  },
  {
   "cell_type": "markdown",
   "id": "cleared-immunology",
   "metadata": {},
   "source": [
    "#### 3.2. Eliminando signos de puntuación, stopwords, y otra información irrelevante\n",
    "\n",
    "Una vez con todo el texto en minúsculas, realizamos otro preprocesamiento para eliminar signos de puntuación y stopwords. Además de esto, por eliminar incoherencias, en nuestro caso también eliminaremos las citas a otros usuarios y las URL mencionadas.\n",
    "\n",
    "Para estas operaciones utilizaremos las librerías nltk y re.\n",
    "\n",
    "Empezaremos cargando el diccionario de stopwords del español, a través de la clase stopwords de nltk.\n",
    "\n",
    "- Función `token_filter()`\n",
    "\n",
    "    Para poder eliminar la información irrelevante de cada frase, nos creamos una función. Esta recibirá una cadena de caracteres (correspondiente al campo 'text' de una de las filas del dataframe), eliminará la información irrelevante, y devolverá una lista con los tokens filtrados.\n",
    "    \n",
    "    Para eliminar las URL, usuarios, y signos de puntuación; utilizaremos expresiones regulares, a través de la librería re. Las URL se describirán como subcadenas empezadas por https y terminadas por espacio o por final de cadena. Los usuarios se describirán como subcadenas empezadas por @, y terminadas por espacio o final de cadena. Y los signos de puntuación los describiremos como símbolos que no sean caracteres alfanuméricos o espacios.\n",
    "    \n",
    "    Una vez eliminada esta información, aplicaremos la función `word_tokenize()` sobre la cadena resultante, lo cual nos dividirá la cadena de caracteres en una lista de tokens.\n",
    "    \n",
    "    Para eliminar las stopwords, utilizaremos una lista en compresión que recorrerá la lista de tokens, comparándolos con la lista de stopwords de nltk, previamente cargada para el idioma español.\n",
    "\n",
    "Finalmente, aplicamos la función anterior sobre cada fila del campo 'text' del dataframe, utilizando la función `apply()` desde pandas, y almacenamos el resultado en un nuevo dataframe llamado `corpus_filtered`\n"
   ]
  },
  {
   "cell_type": "code",
   "execution_count": 89,
   "id": "spiritual-nicaragua",
   "metadata": {},
   "outputs": [
    {
     "name": "stdout",
     "output_type": "stream",
     "text": [
      "    id                                               text  HS  TR  AG\n",
      "0  101                       [oye, molestas, puta, madre]   0   0   0\n",
      "1  102                             [ninguna, mujer, puta]   0   0   0\n",
      "2  103  [editar, además, complicado, hace, merezca, pe...   0   0   0\n",
      "3  104  [bien, joder, puta, alegría, mereces, pequeña,...   0   0   0\n",
      "4  105  [política, levanta, sesión, hijos, puta, manda...   0   0   0\n",
      "5  106                       [casuso, callate, puta, vez]   0   0   0\n",
      "6  107                               [culpable, perra, v]   1   1   1\n",
      "7  108  [puedo, creer, propias, mujeres, naturalicen, ...   0   0   0\n",
      "8  109  [hijo, puta, muerete, asqueroso, mereces, mierda]   0   0   0\n",
      "9  110  [idea, polla, cebolla, obviamente, van, entrar...   0   0   0\n"
     ]
    }
   ],
   "source": [
    "import re\n",
    "from nltk.tokenize import sent_tokenize, word_tokenize\n",
    "from nltk.corpus import stopwords\n",
    "\n",
    "stopwords.words('spanish')\n",
    "\n",
    "def token_filter(wordlist: pd.DataFrame):\n",
    "    \n",
    "    words_no_links = re.sub(r'https.*\\s*', '', wordlist)\n",
    "    words_no_users = re.sub(r'@\\w*\\s*', '', words_no_links)\n",
    "    words_no_punct = re.sub(r'[^\\w\\s]', '', words_no_users)\n",
    "    \n",
    "    token_list = word_tokenize(words_no_punct,\"spanish\")\n",
    "    \n",
    "    words_no_stop = [word for word in token_list if word not in stopwords.words('spanish')]\n",
    "    return words_no_stop\n",
    "    \n",
    "corpus_filtered = corpus_lower\n",
    "corpus_filtered['text'] = corpus_lower['text'].apply(token_filter)\n",
    "\n",
    "print(corpus_filtered)"
   ]
  },
  {
   "cell_type": "markdown",
   "id": "running-jenny",
   "metadata": {},
   "source": [
    "#### 3.3. Reduciendo las palabras a su raíz\n",
    "\n",
    "Una vez generados los tokens, y filtradas únicamente las palabras relevantes, aplicamos una reducción a la raíz para eliminar las derivaciones de cada palabra. Esto nos permitirá realizar una comparación mas precisa, agrupando todas las palabras con la misma raíz.\n",
    "\n",
    "Para aplicar la reducción, utilizaremos la clase SnowballStemmer de nltk. Para aplicarlo sobre cada fila del dataframe, utilizaremos la misma estrategia que en los pasos anteriores, creando una función que procese la lista de palabras, y aplicándola sobre el dataframe a través de `apply()`\n",
    "\n",
    "La función reducirá cada palabra, utilizando una lista por compresión conectada a la función `stem()` de SnowballStemmer de nltk. Tras el procesamiento, devolverá la lista de palabras ya reducidas\n",
    "\n",
    "Aplicamos la función sobre el campo 'text' del dataframe, para aplicarse sobre cada fila del dataframe. El resultado lo almacenamos en un nuevo dataframe llamado `corpus_root`."
   ]
  },
  {
   "cell_type": "code",
   "execution_count": 79,
   "id": "annual-thought",
   "metadata": {},
   "outputs": [
    {
     "name": "stdout",
     "output_type": "stream",
     "text": [
      "    id                                               text  HS  TR  AG\n",
      "0  101                           [oye, molest, put, madr]   0   0   0\n",
      "1  102                                 [ningun, muj, put]   0   0   0\n",
      "2  103  [edit, ademas, complic, hac, merezc, pen, pued...   0   0   0\n",
      "3  104    [bien, jod, put, alegr, merec, pequeñ, otgala9]   0   0   0\n",
      "4  105  [polit, levant, sesion, hij, put, mand, peon, ...   0   0   0\n",
      "5  106                          [casus, callat, put, vez]   0   0   0\n",
      "6  107                                 [culpabl, perr, v]   1   1   1\n",
      "7  108  [pued, cre, propi, mujer, naturalic, violacion...   0   0   0\n",
      "8  109           [hij, put, mueret, asquer, merec, mierd]   0   0   0\n",
      "9  110  [ide, poll, ceboll, obvi, van, entrar, desconf...   0   0   0\n"
     ]
    }
   ],
   "source": [
    "from nltk.stem import SnowballStemmer\n",
    "\n",
    "sp_stemmer = SnowballStemmer('spanish')\n",
    "\n",
    "def root_reducer(wordlist):\n",
    "    root_wordlist = [sp_stemmer.stem(word) for word in wordlist]\n",
    "    \n",
    "    return root_wordlist\n",
    "\n",
    "corpus_root = corpus_filtered\n",
    "corpus_root['text'] = corpus_filtered['text'].apply(root_reducer)\n",
    "\n",
    "print(corpus_root)"
   ]
  },
  {
   "cell_type": "markdown",
   "id": "equipped-bulgarian",
   "metadata": {},
   "source": [
    "### Paso 4: Realizando un conteo de palabras\n",
    "\n",
    "#### 4.1. Uniendo todos los textos en una lista de palabras\n",
    "\n",
    "En este último paso, queremos realizar un conteo de todas las palabras del conjunto, para encontrar las mas frecuentes.\n",
    "\n",
    "Actualmente, las palabras se encuentran en los campos 'text' de cada tuit, por lo que es necesario unir el contenido de todos esos campos en una única lista.\n",
    "\n",
    "Para facilitar este proceso, vamos a recurrir a NumPy, convirtiendo el campo 'text' del dataframe en una simple matriz de listas de palabras. Esto nos permitirá iterar sobre la misma posición a posición, e ir insertando los términos de cada fila en una nueva lista.\n",
    "\n",
    "Para la conversión, utilizamos el método `to_numpy()` de pandas, que nos devuelve una lista con los contenidos de cada campo 'text' del dataframe. Una vez obtenidos, creamos una lista vacía, y utilizaremos un bucle que irá concatenando cada lista obtenida de cada fila de la matriz, a la lista actual. Para realizar la concatenación, utilizaremos el método `extend()`."
   ]
  },
  {
   "cell_type": "code",
   "execution_count": 80,
   "id": "expensive-indie",
   "metadata": {},
   "outputs": [
    {
     "name": "stdout",
     "output_type": "stream",
     "text": [
      "['oye', 'molest', 'put', 'madr', 'ningun', 'muj', 'put', 'edit', 'ademas', 'complic', 'hac', 'merezc', 'pen', 'pued', 'hab', 'grab', 'put', 'hosti', 'plan', 'si', 'mont', 'bien', 'maquill', 'atract', 'va', 'mierd', 'bien', 'jod', 'put', 'alegr', 'merec', 'pequeñ', 'otgala9', 'polit', 'levant', 'sesion', 'hij', 'put', 'mand', 'peon', 'plaz', 'provoc', 'violenci', '15', 'polic', 'her', 'pas', 'si', 'ahi', 'puebl', 'dios', 'mio', 'puebl', 'viej', 'romp', 'lom', 'labur', 'casus', 'callat', 'put', 'vez', 'culpabl', 'perr', 'v', 'pued', 'cre', 'propi', 'mujer', 'naturalic', 'violacion', 'acos', 'justifiqu', 'muj', 'provoc', 'ment', 'mierd', 'put', 'madr', 'hij', 'put', 'mueret', 'asquer', 'merec', 'mierd', 'ide', 'poll', 'ceboll', 'obvi', 'van', 'entrar', 'desconfi', 'entraran', 'quier', 'ir', 'confianz']\n"
     ]
    }
   ],
   "source": [
    "import numpy as np\n",
    "\n",
    "corpus_array = corpus_root['text'].to_numpy()\n",
    "\n",
    "full_wordlist = []\n",
    "\n",
    "for row in corpus_array:\n",
    "    full_wordlist.extend(row)\n",
    "    \n",
    "print(full_wordlist)"
   ]
  },
  {
   "cell_type": "markdown",
   "id": "designing-correction",
   "metadata": {},
   "source": [
    "#### 4.2. Realizando el análisis de frecuencia\n",
    "\n",
    "Finalmente, tras el preprocesamiento y la recopilación de las palabras, realizamos un análisis de frecuencia, buscando las 15 palabras mas comunes y representándolas en una gráfica\n",
    "\n",
    "Para ello, utilizaremos la clase FreqDist de nltk, en la cual cargaremos nuestra lista de palabras.\n",
    "Cob el objeto resultante, llamado `fdist`, generaremos un gráfico de las 15 palabras mas comunes, utilizando para ello el método `plot()`, y el número de palabras que queremos mostrar.\n",
    "\n",
    "Para comprobar que los resultados sean correctos, también llamaremos al método `most_common()`, con el mismo número de palabras, que nos devolverá una lista de pares, con cada palabra y su número de ocurrencias.\n",
    "\n",
    "Comprobamos como sus valores coinciden con los mostrados en la gráfica"
   ]
  },
  {
   "cell_type": "code",
   "execution_count": 81,
   "id": "indonesian-denmark",
   "metadata": {},
   "outputs": [
    {
     "name": "stdout",
     "output_type": "stream",
     "text": [
      "[('put', 8), ('mierd', 3), ('madr', 2), ('muj', 2), ('pued', 2), ('si', 2), ('bien', 2), ('merec', 2), ('hij', 2), ('provoc', 2), ('puebl', 2), ('oye', 1), ('molest', 1), ('ningun', 1), ('edit', 1)]\n"
     ]
    },
    {
     "data": {
      "image/png": "[encoded data removed]",
      "text/plain": [
       "<Figure size 432x288 with 1 Axes>"
      ]
     },
     "metadata": {
      "needs_background": "light"
     },
     "output_type": "display_data"
    },
    {
     "data": {
      "text/plain": [
       "<AxesSubplot:xlabel='Samples', ylabel='Counts'>"
      ]
     },
     "execution_count": 81,
     "metadata": {},
     "output_type": "execute_result"
    }
   ],
   "source": [
    "from nltk.probability import FreqDist\n",
    "fdist=FreqDist(full_wordlist)\n",
    "top_15 = fdist.most_common(15)\n",
    "\n",
    "print(top_15)\n",
    "fdist.plot(15)"
   ]
  },
  {
   "cell_type": "code",
   "execution_count": null,
   "id": "union-married",
   "metadata": {},
   "outputs": [],
   "source": []
  }
 ],
 "metadata": {
  "kernelspec": {
   "display_name": "Python 3",
   "language": "python",
   "name": "python3"
  },
  "language_info": {
   "codemirror_mode": {
    "name": "ipython",
    "version": 3
   },
   "file_extension": ".py",
   "mimetype": "text/x-python",
   "name": "python",
   "nbconvert_exporter": "python",
   "pygments_lexer": "ipython3",
   "version": "3.9.2"
  }
 },
 "nbformat": 4,
 "nbformat_minor": 5
}
